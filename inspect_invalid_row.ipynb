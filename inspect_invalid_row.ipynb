{
 "cells": [
  {
   "cell_type": "code",
   "execution_count": 17,
   "metadata": {},
   "outputs": [
    {
     "name": "stdout",
     "output_type": "stream",
     "text": [
      "c = 5\n",
      "if c < c :\n",
      "print(c)\n",
      "Reformulation : \n",
      "c = 5\n"
     ]
    }
   ],
   "source": [
    "import pandas as pd \n",
    "\n",
    "df=pd.read_csv(\"./invalid_rows.csv\")\n",
    "\n",
    "row_one=df.head().iloc[0]\n",
    "\n",
    "print(row_one.original_code)\n",
    "print(\"Reformulation : \")\n",
    "print(row_one.reformulation)"
   ]
  }
 ],
 "metadata": {
  "kernelspec": {
   "display_name": "main",
   "language": "python",
   "name": "python3"
  },
  "language_info": {
   "codemirror_mode": {
    "name": "ipython",
    "version": 3
   },
   "file_extension": ".py",
   "mimetype": "text/x-python",
   "name": "python",
   "nbconvert_exporter": "python",
   "pygments_lexer": "ipython3",
   "version": "3.11.9"
  }
 },
 "nbformat": 4,
 "nbformat_minor": 2
}
